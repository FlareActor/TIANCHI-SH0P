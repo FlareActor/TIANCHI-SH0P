{
 "cells": [
  {
   "cell_type": "code",
   "execution_count": 16,
   "metadata": {},
   "outputs": [
    {
     "name": "stderr",
     "output_type": "stream",
     "text": [
      "Using TensorFlow backend.\n"
     ]
    }
   ],
   "source": [
    "import numpy as np\n",
    "import pandas as pd\n",
    "import matplotlib\n",
    "import matplotlib.pyplot as plt\n",
    "import seaborn as sns\n",
    "import time\n",
    "import os\n",
    "from tqdm import tqdm\n",
    "from geohash import encode\n",
    "from sklearn.feature_extraction import DictVectorizer\n",
    "from keras.layers import *\n",
    "from keras.models import *\n",
    "\n",
    "%config InlineBackend.figure_format = 'retina' # set 'png' here when working on notebook\n",
    "%matplotlib inline\n",
    "\n",
    "cache_dir='cache'\n",
    "flag=True"
   ]
  },
  {
   "cell_type": "code",
   "execution_count": 2,
   "metadata": {
    "collapsed": true
   },
   "outputs": [],
   "source": [
    "train_df=pd.read_csv('data/训练数据-ccf_first_round_user_shop_behavior.csv')\n",
    "test_df=pd.read_csv('data/AB榜测试集-evaluation_public.csv')\n",
    "meta_df=pd.read_csv('data/训练数据-ccf_first_round_shop_info.csv')"
   ]
  },
  {
   "cell_type": "code",
   "execution_count": 3,
   "metadata": {
    "collapsed": true
   },
   "outputs": [],
   "source": [
    "# 构造线下验证集\n",
    "train_df=pd.merge(train_df,meta_df,on='shop_id',how='left')\n",
    "train_df=train_df[train_df.mall_id=='m_7800']\n",
    "x_train=train_df[train_df.time_stamp<'2017-08-30 00:00']\n",
    "x_val=train_df[train_df.time_stamp>='2017-08-30 00:00']"
   ]
  },
  {
   "cell_type": "code",
   "execution_count": 6,
   "metadata": {},
   "outputs": [
    {
     "data": {
      "text/html": [
       "<div>\n",
       "<style>\n",
       "    .dataframe thead tr:only-child th {\n",
       "        text-align: right;\n",
       "    }\n",
       "\n",
       "    .dataframe thead th {\n",
       "        text-align: left;\n",
       "    }\n",
       "\n",
       "    .dataframe tbody tr th {\n",
       "        vertical-align: top;\n",
       "    }\n",
       "</style>\n",
       "<table border=\"1\" class=\"dataframe\">\n",
       "  <thead>\n",
       "    <tr style=\"text-align: right;\">\n",
       "      <th></th>\n",
       "      <th>user_id</th>\n",
       "      <th>shop_id</th>\n",
       "      <th>time_stamp</th>\n",
       "      <th>longitude_x</th>\n",
       "      <th>latitude_x</th>\n",
       "      <th>wifi_infos</th>\n",
       "      <th>category_id</th>\n",
       "      <th>longitude_y</th>\n",
       "      <th>latitude_y</th>\n",
       "      <th>price</th>\n",
       "      <th>mall_id</th>\n",
       "    </tr>\n",
       "  </thead>\n",
       "  <tbody>\n",
       "    <tr>\n",
       "      <th>39</th>\n",
       "      <td>u_9611</td>\n",
       "      <td>s_684235</td>\n",
       "      <td>2017-08-05 15:30</td>\n",
       "      <td>109.264884</td>\n",
       "      <td>35.258471</td>\n",
       "      <td>b_31569692|-83|false;b_45321577|-82|false;b_38...</td>\n",
       "      <td>c_28</td>\n",
       "      <td>109.265016</td>\n",
       "      <td>35.258217</td>\n",
       "      <td>50</td>\n",
       "      <td>m_7800</td>\n",
       "    </tr>\n",
       "    <tr>\n",
       "      <th>40</th>\n",
       "      <td>u_9611</td>\n",
       "      <td>s_539726</td>\n",
       "      <td>2017-08-05 15:40</td>\n",
       "      <td>109.265270</td>\n",
       "      <td>35.258223</td>\n",
       "      <td>b_45321577|-71|false;b_45323103|-74|false;b_45...</td>\n",
       "      <td>c_13</td>\n",
       "      <td>109.265325</td>\n",
       "      <td>35.258245</td>\n",
       "      <td>52</td>\n",
       "      <td>m_7800</td>\n",
       "    </tr>\n",
       "    <tr>\n",
       "      <th>41</th>\n",
       "      <td>u_9611</td>\n",
       "      <td>s_684235</td>\n",
       "      <td>2017-08-05 18:10</td>\n",
       "      <td>109.264854</td>\n",
       "      <td>35.258351</td>\n",
       "      <td>b_42964305|-83|false;b_55544018|-53|false;b_43...</td>\n",
       "      <td>c_28</td>\n",
       "      <td>109.265016</td>\n",
       "      <td>35.258217</td>\n",
       "      <td>50</td>\n",
       "      <td>m_7800</td>\n",
       "    </tr>\n",
       "    <tr>\n",
       "      <th>279</th>\n",
       "      <td>u_48238</td>\n",
       "      <td>s_685058</td>\n",
       "      <td>2017-08-23 12:10</td>\n",
       "      <td>109.265269</td>\n",
       "      <td>35.258723</td>\n",
       "      <td>b_45322897|-61|false;b_14364825|-59|false;b_26...</td>\n",
       "      <td>c_28</td>\n",
       "      <td>109.265016</td>\n",
       "      <td>35.258217</td>\n",
       "      <td>44</td>\n",
       "      <td>m_7800</td>\n",
       "    </tr>\n",
       "    <tr>\n",
       "      <th>280</th>\n",
       "      <td>u_48238</td>\n",
       "      <td>s_992598</td>\n",
       "      <td>2017-08-23 12:10</td>\n",
       "      <td>109.265222</td>\n",
       "      <td>35.258499</td>\n",
       "      <td>b_44663058|-78|false;b_18983684|-60|false;b_40...</td>\n",
       "      <td>c_30</td>\n",
       "      <td>109.265815</td>\n",
       "      <td>35.257716</td>\n",
       "      <td>45</td>\n",
       "      <td>m_7800</td>\n",
       "    </tr>\n",
       "  </tbody>\n",
       "</table>\n",
       "</div>"
      ],
      "text/plain": [
       "     user_id   shop_id        time_stamp  longitude_x  latitude_x  \\\n",
       "39    u_9611  s_684235  2017-08-05 15:30   109.264884   35.258471   \n",
       "40    u_9611  s_539726  2017-08-05 15:40   109.265270   35.258223   \n",
       "41    u_9611  s_684235  2017-08-05 18:10   109.264854   35.258351   \n",
       "279  u_48238  s_685058  2017-08-23 12:10   109.265269   35.258723   \n",
       "280  u_48238  s_992598  2017-08-23 12:10   109.265222   35.258499   \n",
       "\n",
       "                                            wifi_infos category_id  \\\n",
       "39   b_31569692|-83|false;b_45321577|-82|false;b_38...        c_28   \n",
       "40   b_45321577|-71|false;b_45323103|-74|false;b_45...        c_13   \n",
       "41   b_42964305|-83|false;b_55544018|-53|false;b_43...        c_28   \n",
       "279  b_45322897|-61|false;b_14364825|-59|false;b_26...        c_28   \n",
       "280  b_44663058|-78|false;b_18983684|-60|false;b_40...        c_30   \n",
       "\n",
       "     longitude_y  latitude_y  price mall_id  \n",
       "39    109.265016   35.258217     50  m_7800  \n",
       "40    109.265325   35.258245     52  m_7800  \n",
       "41    109.265016   35.258217     50  m_7800  \n",
       "279   109.265016   35.258217     44  m_7800  \n",
       "280   109.265815   35.257716     45  m_7800  "
      ]
     },
     "execution_count": 6,
     "metadata": {},
     "output_type": "execute_result"
    }
   ],
   "source": [
    "x_train.head()"
   ]
  },
  {
   "cell_type": "code",
   "execution_count": 89,
   "metadata": {
    "scrolled": true
   },
   "outputs": [],
   "source": [
    "def make_wifi_dict(x):\n",
    "    def _transform(x):\n",
    "        i=x.split('|')[:2]\n",
    "        i[1]=int(i[1])\n",
    "        return i\n",
    "    result=[_transform(i) for i in x.split(';')]\n",
    "    return dict(result)\n",
    "train_wifi=x_train.wifi_infos.apply(make_wifi_dict)\n",
    "val_wifi=x_val.wifi_infos.apply(make_wifi_dict)"
   ]
  },
  {
   "cell_type": "code",
   "execution_count": 90,
   "metadata": {},
   "outputs": [
    {
     "data": {
      "text/plain": [
       "((18674, 3498), (1058, 3498))"
      ]
     },
     "execution_count": 90,
     "metadata": {},
     "output_type": "execute_result"
    }
   ],
   "source": [
    "vec = DictVectorizer()\n",
    "train_vec = vec.fit_transform(list(train_wifi)).toarray()\n",
    "val_vec = vec.transform(list(val_wifi)).toarray()\n",
    "train_vec.shape,val_vec.shape"
   ]
  },
  {
   "cell_type": "code",
   "execution_count": 91,
   "metadata": {},
   "outputs": [],
   "source": [
    "train_vec[train_vec==0]=-150\n",
    "val_vec[val_vec==0]=-150"
   ]
  },
  {
   "cell_type": "code",
   "execution_count": 21,
   "metadata": {},
   "outputs": [],
   "source": [
    "# 标准化\n",
    "_min=np.min([np.min(train_vec),np.min(val_vec)])\n",
    "train_vec/=_min\n",
    "val_vec/=_min"
   ]
  },
  {
   "cell_type": "code",
   "execution_count": 92,
   "metadata": {
    "collapsed": true
   },
   "outputs": [],
   "source": [
    "from sklearn.preprocessing import StandardScaler\n",
    "\n",
    "scaler=StandardScaler()\n",
    "train_vec=scaler.fit_transform(train_vec)\n",
    "val_vec=scaler.transform(val_vec)"
   ]
  },
  {
   "cell_type": "code",
   "execution_count": 93,
   "metadata": {},
   "outputs": [
    {
     "name": "stdout",
     "output_type": "stream",
     "text": [
      "_________________________________________________________________\n",
      "Layer (type)                 Output Shape              Param #   \n",
      "=================================================================\n",
      "input_10 (InputLayer)        (None, 3498)              0         \n",
      "_________________________________________________________________\n",
      "dense_48 (Dense)             (None, 512)               1791488   \n",
      "_________________________________________________________________\n",
      "dense_49 (Dense)             (None, 256)               131328    \n",
      "_________________________________________________________________\n",
      "dense_50 (Dense)             (None, 512)               131584    \n",
      "_________________________________________________________________\n",
      "dense_51 (Dense)             (None, 3498)              1794474   \n",
      "=================================================================\n",
      "Total params: 3,848,874\n",
      "Trainable params: 3,848,874\n",
      "Non-trainable params: 0\n",
      "_________________________________________________________________\n"
     ]
    }
   ],
   "source": [
    "input_dim=train_vec.shape[1]\n",
    "\n",
    "input_layer=Input((input_dim,))\n",
    "m=Dense(512,activation='relu')(input_layer)\n",
    "encoder=Dense(256,activation='tanh')(m)\n",
    "m=Dense(512,activation='relu')(encoder)\n",
    "m=Dense(input_dim,activation='linear')(m)\n",
    "ae=Model(input_layer,m)\n",
    "ae.compile(optimizer='adam', loss='mse')\n",
    "ae.summary()"
   ]
  },
  {
   "cell_type": "code",
   "execution_count": 94,
   "metadata": {
    "scrolled": false
   },
   "outputs": [
    {
     "name": "stdout",
     "output_type": "stream",
     "text": [
      "Train on 18674 samples, validate on 1058 samples\n",
      "Epoch 1/100\n",
      "18674/18674 [==============================] - 5s - loss: 0.9927 - val_loss: 0.5505\n",
      "Epoch 2/100\n",
      "18674/18674 [==============================] - 4s - loss: 0.9478 - val_loss: 0.5181\n",
      "Epoch 3/100\n",
      "18674/18674 [==============================] - 4s - loss: 0.9085 - val_loss: 0.5042ss: 0.90 - ETA: 0s - loss\n",
      "Epoch 4/100\n",
      "18674/18674 [==============================] - 4s - loss: 0.8794 - val_loss: 0.4973\n",
      "Epoch 5/100\n",
      "18674/18674 [==============================] - 4s - loss: 0.8581 - val_loss: 0.4931\n",
      "Epoch 6/100\n",
      "18674/18674 [==============================] - 4s - loss: 0.8418 - val_loss: 0.4906\n",
      "Epoch 7/100\n",
      "18674/18674 [==============================] - 4s - loss: 0.8284 - val_loss: 0.4897\n",
      "Epoch 8/100\n",
      "18674/18674 [==============================] - 4s - loss: 0.8173 - val_loss: 0.4897\n",
      "Epoch 9/100\n",
      "18674/18674 [==============================] - 4s - loss: 0.8073 - val_loss: 0.4895\n",
      "Epoch 10/100\n",
      "18674/18674 [==============================] - 4s - loss: 0.7983 - val_loss: 0.4886\n",
      "Epoch 11/100\n",
      "18674/18674 [==============================] - 4s - loss: 0.7901 - val_loss: 0.4881\n",
      "Epoch 12/100\n",
      "18674/18674 [==============================] - 4s - loss: 0.7816 - val_loss: 0.4888\n",
      "Epoch 13/100\n",
      "18674/18674 [==============================] - 4s - loss: 0.7746 - val_loss: 0.4883\n",
      "Epoch 14/100\n",
      "18674/18674 [==============================] - 4s - loss: 0.7660 - val_loss: 0.4879\n",
      "Epoch 15/100\n",
      "18674/18674 [==============================] - 4s - loss: 0.7602 - val_loss: 0.4889\n",
      "Epoch 16/100\n",
      "18674/18674 [==============================] - 4s - loss: 0.7537 - val_loss: 0.4896\n",
      "Epoch 17/100\n",
      "18674/18674 [==============================] - 4s - loss: 0.7488 - val_loss: 0.4895\n",
      "Epoch 18/100\n",
      "18674/18674 [==============================] - 4s - loss: 0.7432 - val_loss: 0.4916\n",
      "Epoch 19/100\n",
      "18674/18674 [==============================] - 4s - loss: 0.7383 - val_loss: 0.4908\n",
      "Epoch 20/100\n",
      "18674/18674 [==============================] - 4s - loss: 0.7341 - val_loss: 0.4903\n",
      "Epoch 21/100\n",
      "18674/18674 [==============================] - 4s - loss: 0.7297 - val_loss: 0.4924\n",
      "Epoch 22/100\n",
      "18674/18674 [==============================] - 4s - loss: 0.7255 - val_loss: 0.4920\n",
      "Epoch 23/100\n",
      "18674/18674 [==============================] - 4s - loss: 0.7219 - val_loss: 0.4918\n",
      "Epoch 24/100\n",
      "18674/18674 [==============================] - 4s - loss: 0.7182 - val_loss: 0.4936\n",
      "Epoch 25/100\n",
      "18674/18674 [==============================] - 4s - loss: 0.7151 - val_loss: 0.4934\n",
      "Epoch 26/100\n",
      "18674/18674 [==============================] - 4s - loss: 0.7123 - val_loss: 0.4960\n",
      "Epoch 27/100\n",
      "18674/18674 [==============================] - 4s - loss: 0.7096 - val_loss: 0.4931\n",
      "Epoch 28/100\n",
      "18674/18674 [==============================] - 4s - loss: 0.7059 - val_loss: 0.4951\n",
      "Epoch 29/100\n",
      "18674/18674 [==============================] - 4s - loss: 0.7038 - val_loss: 0.4943\n",
      "Epoch 30/100\n",
      "18674/18674 [==============================] - 4s - loss: 0.7008 - val_loss: 0.4920\n",
      "Epoch 31/100\n",
      " 1536/18674 [=>............................] - ETA: 4s - loss: 0.7399"
     ]
    },
    {
     "ename": "KeyboardInterrupt",
     "evalue": "",
     "output_type": "error",
     "traceback": [
      "\u001b[0;31m---------------------------------------------------------------------------\u001b[0m",
      "\u001b[0;31mKeyboardInterrupt\u001b[0m                         Traceback (most recent call last)",
      "\u001b[0;32m<ipython-input-94-0b21a906899f>\u001b[0m in \u001b[0;36m<module>\u001b[0;34m()\u001b[0m\n\u001b[0;32m----> 1\u001b[0;31m \u001b[0mae\u001b[0m\u001b[0;34m.\u001b[0m\u001b[0mfit\u001b[0m\u001b[0;34m(\u001b[0m\u001b[0mtrain_vec\u001b[0m\u001b[0;34m,\u001b[0m\u001b[0mtrain_vec\u001b[0m\u001b[0;34m,\u001b[0m\u001b[0mepochs\u001b[0m\u001b[0;34m=\u001b[0m\u001b[0;36m100\u001b[0m\u001b[0;34m,\u001b[0m\u001b[0mbatch_size\u001b[0m\u001b[0;34m=\u001b[0m\u001b[0;36m256\u001b[0m\u001b[0;34m,\u001b[0m\u001b[0mvalidation_data\u001b[0m\u001b[0;34m=\u001b[0m\u001b[0;34m(\u001b[0m\u001b[0mval_vec\u001b[0m\u001b[0;34m,\u001b[0m\u001b[0mval_vec\u001b[0m\u001b[0;34m)\u001b[0m\u001b[0;34m)\u001b[0m\u001b[0;34m\u001b[0m\u001b[0m\n\u001b[0m",
      "\u001b[0;32m/usr/local/lib/python3.4/dist-packages/keras/engine/training.py\u001b[0m in \u001b[0;36mfit\u001b[0;34m(self, x, y, batch_size, epochs, verbose, callbacks, validation_split, validation_data, shuffle, class_weight, sample_weight, initial_epoch, **kwargs)\u001b[0m\n\u001b[1;32m   1505\u001b[0m                               \u001b[0mval_f\u001b[0m\u001b[0;34m=\u001b[0m\u001b[0mval_f\u001b[0m\u001b[0;34m,\u001b[0m \u001b[0mval_ins\u001b[0m\u001b[0;34m=\u001b[0m\u001b[0mval_ins\u001b[0m\u001b[0;34m,\u001b[0m \u001b[0mshuffle\u001b[0m\u001b[0;34m=\u001b[0m\u001b[0mshuffle\u001b[0m\u001b[0;34m,\u001b[0m\u001b[0;34m\u001b[0m\u001b[0m\n\u001b[1;32m   1506\u001b[0m                               \u001b[0mcallback_metrics\u001b[0m\u001b[0;34m=\u001b[0m\u001b[0mcallback_metrics\u001b[0m\u001b[0;34m,\u001b[0m\u001b[0;34m\u001b[0m\u001b[0m\n\u001b[0;32m-> 1507\u001b[0;31m                               initial_epoch=initial_epoch)\n\u001b[0m\u001b[1;32m   1508\u001b[0m \u001b[0;34m\u001b[0m\u001b[0m\n\u001b[1;32m   1509\u001b[0m     \u001b[0;32mdef\u001b[0m \u001b[0mevaluate\u001b[0m\u001b[0;34m(\u001b[0m\u001b[0mself\u001b[0m\u001b[0;34m,\u001b[0m \u001b[0mx\u001b[0m\u001b[0;34m,\u001b[0m \u001b[0my\u001b[0m\u001b[0;34m,\u001b[0m \u001b[0mbatch_size\u001b[0m\u001b[0;34m=\u001b[0m\u001b[0;36m32\u001b[0m\u001b[0;34m,\u001b[0m \u001b[0mverbose\u001b[0m\u001b[0;34m=\u001b[0m\u001b[0;36m1\u001b[0m\u001b[0;34m,\u001b[0m \u001b[0msample_weight\u001b[0m\u001b[0;34m=\u001b[0m\u001b[0;32mNone\u001b[0m\u001b[0;34m)\u001b[0m\u001b[0;34m:\u001b[0m\u001b[0;34m\u001b[0m\u001b[0m\n",
      "\u001b[0;32m/usr/local/lib/python3.4/dist-packages/keras/engine/training.py\u001b[0m in \u001b[0;36m_fit_loop\u001b[0;34m(self, f, ins, out_labels, batch_size, epochs, verbose, callbacks, val_f, val_ins, shuffle, callback_metrics, initial_epoch)\u001b[0m\n\u001b[1;32m   1154\u001b[0m                 \u001b[0mbatch_logs\u001b[0m\u001b[0;34m[\u001b[0m\u001b[0;34m'size'\u001b[0m\u001b[0;34m]\u001b[0m \u001b[0;34m=\u001b[0m \u001b[0mlen\u001b[0m\u001b[0;34m(\u001b[0m\u001b[0mbatch_ids\u001b[0m\u001b[0;34m)\u001b[0m\u001b[0;34m\u001b[0m\u001b[0m\n\u001b[1;32m   1155\u001b[0m                 \u001b[0mcallbacks\u001b[0m\u001b[0;34m.\u001b[0m\u001b[0mon_batch_begin\u001b[0m\u001b[0;34m(\u001b[0m\u001b[0mbatch_index\u001b[0m\u001b[0;34m,\u001b[0m \u001b[0mbatch_logs\u001b[0m\u001b[0;34m)\u001b[0m\u001b[0;34m\u001b[0m\u001b[0m\n\u001b[0;32m-> 1156\u001b[0;31m                 \u001b[0mouts\u001b[0m \u001b[0;34m=\u001b[0m \u001b[0mf\u001b[0m\u001b[0;34m(\u001b[0m\u001b[0mins_batch\u001b[0m\u001b[0;34m)\u001b[0m\u001b[0;34m\u001b[0m\u001b[0m\n\u001b[0m\u001b[1;32m   1157\u001b[0m                 \u001b[0;32mif\u001b[0m \u001b[0;32mnot\u001b[0m \u001b[0misinstance\u001b[0m\u001b[0;34m(\u001b[0m\u001b[0mouts\u001b[0m\u001b[0;34m,\u001b[0m \u001b[0mlist\u001b[0m\u001b[0;34m)\u001b[0m\u001b[0;34m:\u001b[0m\u001b[0;34m\u001b[0m\u001b[0m\n\u001b[1;32m   1158\u001b[0m                     \u001b[0mouts\u001b[0m \u001b[0;34m=\u001b[0m \u001b[0;34m[\u001b[0m\u001b[0mouts\u001b[0m\u001b[0;34m]\u001b[0m\u001b[0;34m\u001b[0m\u001b[0m\n",
      "\u001b[0;32m/usr/local/lib/python3.4/dist-packages/keras/backend/tensorflow_backend.py\u001b[0m in \u001b[0;36m__call__\u001b[0;34m(self, inputs)\u001b[0m\n\u001b[1;32m   2267\u001b[0m         updated = session.run(self.outputs + [self.updates_op],\n\u001b[1;32m   2268\u001b[0m                               \u001b[0mfeed_dict\u001b[0m\u001b[0;34m=\u001b[0m\u001b[0mfeed_dict\u001b[0m\u001b[0;34m,\u001b[0m\u001b[0;34m\u001b[0m\u001b[0m\n\u001b[0;32m-> 2269\u001b[0;31m                               **self.session_kwargs)\n\u001b[0m\u001b[1;32m   2270\u001b[0m         \u001b[0;32mreturn\u001b[0m \u001b[0mupdated\u001b[0m\u001b[0;34m[\u001b[0m\u001b[0;34m:\u001b[0m\u001b[0mlen\u001b[0m\u001b[0;34m(\u001b[0m\u001b[0mself\u001b[0m\u001b[0;34m.\u001b[0m\u001b[0moutputs\u001b[0m\u001b[0;34m)\u001b[0m\u001b[0;34m]\u001b[0m\u001b[0;34m\u001b[0m\u001b[0m\n\u001b[1;32m   2271\u001b[0m \u001b[0;34m\u001b[0m\u001b[0m\n",
      "\u001b[0;32m/usr/local/lib/python3.4/dist-packages/tensorflow/python/client/session.py\u001b[0m in \u001b[0;36mrun\u001b[0;34m(self, fetches, feed_dict, options, run_metadata)\u001b[0m\n\u001b[1;32m    787\u001b[0m     \u001b[0;32mtry\u001b[0m\u001b[0;34m:\u001b[0m\u001b[0;34m\u001b[0m\u001b[0m\n\u001b[1;32m    788\u001b[0m       result = self._run(None, fetches, feed_dict, options_ptr,\n\u001b[0;32m--> 789\u001b[0;31m                          run_metadata_ptr)\n\u001b[0m\u001b[1;32m    790\u001b[0m       \u001b[0;32mif\u001b[0m \u001b[0mrun_metadata\u001b[0m\u001b[0;34m:\u001b[0m\u001b[0;34m\u001b[0m\u001b[0m\n\u001b[1;32m    791\u001b[0m         \u001b[0mproto_data\u001b[0m \u001b[0;34m=\u001b[0m \u001b[0mtf_session\u001b[0m\u001b[0;34m.\u001b[0m\u001b[0mTF_GetBuffer\u001b[0m\u001b[0;34m(\u001b[0m\u001b[0mrun_metadata_ptr\u001b[0m\u001b[0;34m)\u001b[0m\u001b[0;34m\u001b[0m\u001b[0m\n",
      "\u001b[0;32m/usr/local/lib/python3.4/dist-packages/tensorflow/python/client/session.py\u001b[0m in \u001b[0;36m_run\u001b[0;34m(self, handle, fetches, feed_dict, options, run_metadata)\u001b[0m\n\u001b[1;32m    995\u001b[0m     \u001b[0;32mif\u001b[0m \u001b[0mfinal_fetches\u001b[0m \u001b[0;32mor\u001b[0m \u001b[0mfinal_targets\u001b[0m\u001b[0;34m:\u001b[0m\u001b[0;34m\u001b[0m\u001b[0m\n\u001b[1;32m    996\u001b[0m       results = self._do_run(handle, final_targets, final_fetches,\n\u001b[0;32m--> 997\u001b[0;31m                              feed_dict_string, options, run_metadata)\n\u001b[0m\u001b[1;32m    998\u001b[0m     \u001b[0;32melse\u001b[0m\u001b[0;34m:\u001b[0m\u001b[0;34m\u001b[0m\u001b[0m\n\u001b[1;32m    999\u001b[0m       \u001b[0mresults\u001b[0m \u001b[0;34m=\u001b[0m \u001b[0;34m[\u001b[0m\u001b[0;34m]\u001b[0m\u001b[0;34m\u001b[0m\u001b[0m\n",
      "\u001b[0;32m/usr/local/lib/python3.4/dist-packages/tensorflow/python/client/session.py\u001b[0m in \u001b[0;36m_do_run\u001b[0;34m(self, handle, target_list, fetch_list, feed_dict, options, run_metadata)\u001b[0m\n\u001b[1;32m   1130\u001b[0m     \u001b[0;32mif\u001b[0m \u001b[0mhandle\u001b[0m \u001b[0;32mis\u001b[0m \u001b[0;32mNone\u001b[0m\u001b[0;34m:\u001b[0m\u001b[0;34m\u001b[0m\u001b[0m\n\u001b[1;32m   1131\u001b[0m       return self._do_call(_run_fn, self._session, feed_dict, fetch_list,\n\u001b[0;32m-> 1132\u001b[0;31m                            target_list, options, run_metadata)\n\u001b[0m\u001b[1;32m   1133\u001b[0m     \u001b[0;32melse\u001b[0m\u001b[0;34m:\u001b[0m\u001b[0;34m\u001b[0m\u001b[0m\n\u001b[1;32m   1134\u001b[0m       return self._do_call(_prun_fn, self._session, handle, feed_dict,\n",
      "\u001b[0;32m/usr/local/lib/python3.4/dist-packages/tensorflow/python/client/session.py\u001b[0m in \u001b[0;36m_do_call\u001b[0;34m(self, fn, *args)\u001b[0m\n\u001b[1;32m   1137\u001b[0m   \u001b[0;32mdef\u001b[0m \u001b[0m_do_call\u001b[0m\u001b[0;34m(\u001b[0m\u001b[0mself\u001b[0m\u001b[0;34m,\u001b[0m \u001b[0mfn\u001b[0m\u001b[0;34m,\u001b[0m \u001b[0;34m*\u001b[0m\u001b[0margs\u001b[0m\u001b[0;34m)\u001b[0m\u001b[0;34m:\u001b[0m\u001b[0;34m\u001b[0m\u001b[0m\n\u001b[1;32m   1138\u001b[0m     \u001b[0;32mtry\u001b[0m\u001b[0;34m:\u001b[0m\u001b[0;34m\u001b[0m\u001b[0m\n\u001b[0;32m-> 1139\u001b[0;31m       \u001b[0;32mreturn\u001b[0m \u001b[0mfn\u001b[0m\u001b[0;34m(\u001b[0m\u001b[0;34m*\u001b[0m\u001b[0margs\u001b[0m\u001b[0;34m)\u001b[0m\u001b[0;34m\u001b[0m\u001b[0m\n\u001b[0m\u001b[1;32m   1140\u001b[0m     \u001b[0;32mexcept\u001b[0m \u001b[0merrors\u001b[0m\u001b[0;34m.\u001b[0m\u001b[0mOpError\u001b[0m \u001b[0;32mas\u001b[0m \u001b[0me\u001b[0m\u001b[0;34m:\u001b[0m\u001b[0;34m\u001b[0m\u001b[0m\n\u001b[1;32m   1141\u001b[0m       \u001b[0mmessage\u001b[0m \u001b[0;34m=\u001b[0m \u001b[0mcompat\u001b[0m\u001b[0;34m.\u001b[0m\u001b[0mas_text\u001b[0m\u001b[0;34m(\u001b[0m\u001b[0me\u001b[0m\u001b[0;34m.\u001b[0m\u001b[0mmessage\u001b[0m\u001b[0;34m)\u001b[0m\u001b[0;34m\u001b[0m\u001b[0m\n",
      "\u001b[0;32m/usr/local/lib/python3.4/dist-packages/tensorflow/python/client/session.py\u001b[0m in \u001b[0;36m_run_fn\u001b[0;34m(session, feed_dict, fetch_list, target_list, options, run_metadata)\u001b[0m\n\u001b[1;32m   1119\u001b[0m         return tf_session.TF_Run(session, options,\n\u001b[1;32m   1120\u001b[0m                                  \u001b[0mfeed_dict\u001b[0m\u001b[0;34m,\u001b[0m \u001b[0mfetch_list\u001b[0m\u001b[0;34m,\u001b[0m \u001b[0mtarget_list\u001b[0m\u001b[0;34m,\u001b[0m\u001b[0;34m\u001b[0m\u001b[0m\n\u001b[0;32m-> 1121\u001b[0;31m                                  status, run_metadata)\n\u001b[0m\u001b[1;32m   1122\u001b[0m \u001b[0;34m\u001b[0m\u001b[0m\n\u001b[1;32m   1123\u001b[0m     \u001b[0;32mdef\u001b[0m \u001b[0m_prun_fn\u001b[0m\u001b[0;34m(\u001b[0m\u001b[0msession\u001b[0m\u001b[0;34m,\u001b[0m \u001b[0mhandle\u001b[0m\u001b[0;34m,\u001b[0m \u001b[0mfeed_dict\u001b[0m\u001b[0;34m,\u001b[0m \u001b[0mfetch_list\u001b[0m\u001b[0;34m)\u001b[0m\u001b[0;34m:\u001b[0m\u001b[0;34m\u001b[0m\u001b[0m\n",
      "\u001b[0;31mKeyboardInterrupt\u001b[0m: "
     ]
    }
   ],
   "source": [
    "ae.fit(train_vec,train_vec,epochs=100,batch_size=256,validation_data=(val_vec,val_vec))"
   ]
  },
  {
   "cell_type": "code",
   "execution_count": 81,
   "metadata": {},
   "outputs": [
    {
     "data": {
      "text/plain": [
       "array([[ 0.79962045, -0.92479318,  0.86232191, ..., -0.51805621,\n",
       "        -0.79050088,  0.11023718],\n",
       "       [ 0.28795418, -0.44653812, -0.17220461, ..., -0.02667675,\n",
       "        -0.34625056, -0.61891091],\n",
       "       [ 0.93289393, -0.79069847,  0.72056103, ..., -0.82164705,\n",
       "         0.85884899, -0.08806316],\n",
       "       ..., \n",
       "       [ 0.97734338, -0.00942533, -0.88781101, ..., -0.71490544,\n",
       "        -0.96233052,  0.53717208],\n",
       "       [ 0.44199413, -0.29273978, -0.08979679, ..., -0.0356275 ,\n",
       "        -0.0608784 , -0.30264673],\n",
       "       [ 0.98221242, -0.92761981, -0.88067973, ..., -0.59375298,\n",
       "         0.90352499, -0.77659899]], dtype=float32)"
      ]
     },
     "execution_count": 81,
     "metadata": {},
     "output_type": "execute_result"
    }
   ],
   "source": [
    "en=Model(input_layer,encoder)\n",
    "en.predict(train_vec)"
   ]
  },
  {
   "cell_type": "code",
   "execution_count": 82,
   "metadata": {
    "collapsed": true
   },
   "outputs": [],
   "source": [
    "l=[]\n",
    "for i in train_df.shop_id:\n",
    "    l.append({i:1})\n",
    "label=DictVectorizer().fit_transform(l).toarray()\n",
    "train_label=label[:x_train.shape[0],:]\n",
    "val_label=label[x_train.shape[0]:,:]"
   ]
  },
  {
   "cell_type": "code",
   "execution_count": 83,
   "metadata": {},
   "outputs": [
    {
     "data": {
      "text/plain": [
       "((18674, 89), (1058, 89))"
      ]
     },
     "execution_count": 83,
     "metadata": {},
     "output_type": "execute_result"
    }
   ],
   "source": [
    "train_label.shape,val_label.shape"
   ]
  },
  {
   "cell_type": "code",
   "execution_count": 87,
   "metadata": {},
   "outputs": [
    {
     "name": "stdout",
     "output_type": "stream",
     "text": [
      "_________________________________________________________________\n",
      "Layer (type)                 Output Shape              Param #   \n",
      "=================================================================\n",
      "input_9 (InputLayer)         (None, 3498)              0         \n",
      "_________________________________________________________________\n",
      "dense_38 (Dense)             (None, 512)               1791488   \n",
      "_________________________________________________________________\n",
      "dense_39 (Dense)             (None, 256)               131328    \n",
      "_________________________________________________________________\n",
      "dense_46 (Dense)             (None, 256)               65792     \n",
      "_________________________________________________________________\n",
      "dropout_1 (Dropout)          (None, 256)               0         \n",
      "_________________________________________________________________\n",
      "dense_47 (Dense)             (None, 89)                22873     \n",
      "=================================================================\n",
      "Total params: 2,011,481\n",
      "Trainable params: 88,665\n",
      "Non-trainable params: 1,922,816\n",
      "_________________________________________________________________\n"
     ]
    }
   ],
   "source": [
    "mm=Dense(256,activation='relu')(encoder)\n",
    "mm=Dropout(0.5)(mm)\n",
    "mm=Dense(train_label.shape[1],activation='softmax')(mm)\n",
    "cls=Model(input_layer,mm)\n",
    "cls.compile(optimizer='adam', loss='categorical_crossentropy')\n",
    "for i in cls.layers[:3]:\n",
    "    i.trainable=False\n",
    "cls.summary()"
   ]
  },
  {
   "cell_type": "code",
   "execution_count": 88,
   "metadata": {
    "scrolled": true
   },
   "outputs": [
    {
     "name": "stdout",
     "output_type": "stream",
     "text": [
      "Train on 18674 samples, validate on 1058 samples\n",
      "Epoch 1/100\n",
      "18674/18674 [==============================] - 1s - loss: 4.2672 - val_loss: 4.0807\n",
      "Epoch 2/100\n",
      "18674/18674 [==============================] - 0s - loss: 4.0213 - val_loss: 4.0328\n",
      "Epoch 3/100\n",
      "18674/18674 [==============================] - 0s - loss: 3.9477 - val_loss: 4.0278\n",
      "Epoch 4/100\n",
      "18674/18674 [==============================] - 0s - loss: 3.9066 - val_loss: 4.0192\n",
      "Epoch 5/100\n",
      "18674/18674 [==============================] - 0s - loss: 3.8707 - val_loss: 4.0233\n",
      "Epoch 6/100\n",
      "18674/18674 [==============================] - 0s - loss: 3.8337 - val_loss: 4.0183\n",
      "Epoch 7/100\n",
      "18674/18674 [==============================] - 0s - loss: 3.8063 - val_loss: 4.0223\n",
      "Epoch 8/100\n",
      "18674/18674 [==============================] - 0s - loss: 3.7733 - val_loss: 4.0223\n",
      "Epoch 9/100\n",
      "18674/18674 [==============================] - 0s - loss: 3.7522 - val_loss: 4.0265\n",
      "Epoch 10/100\n",
      "18674/18674 [==============================] - 0s - loss: 3.7321 - val_loss: 4.0224\n",
      "Epoch 11/100\n",
      "18674/18674 [==============================] - 0s - loss: 3.7056 - val_loss: 4.0339\n",
      "Epoch 12/100\n",
      "18674/18674 [==============================] - 0s - loss: 3.6836 - val_loss: 4.0284\n",
      "Epoch 13/100\n",
      "18674/18674 [==============================] - 0s - loss: 3.6709 - val_loss: 4.0398\n",
      "Epoch 14/100\n",
      "18674/18674 [==============================] - 0s - loss: 3.6456 - val_loss: 4.0409\n",
      "Epoch 15/100\n",
      "18674/18674 [==============================] - 0s - loss: 3.6228 - val_loss: 4.0409\n",
      "Epoch 16/100\n",
      "18674/18674 [==============================] - 0s - loss: 3.6041 - val_loss: 4.0419\n",
      "Epoch 17/100\n",
      "18674/18674 [==============================] - 0s - loss: 3.5918 - val_loss: 4.0475\n",
      "Epoch 18/100\n",
      "18674/18674 [==============================] - 0s - loss: 3.5741 - val_loss: 4.0489\n",
      "Epoch 19/100\n",
      "18674/18674 [==============================] - 0s - loss: 3.5540 - val_loss: 4.0547\n",
      "Epoch 20/100\n",
      "18674/18674 [==============================] - 0s - loss: 3.5364 - val_loss: 4.0646\n",
      "Epoch 21/100\n",
      "18674/18674 [==============================] - 0s - loss: 3.5206 - val_loss: 4.0647\n",
      "Epoch 22/100\n",
      "18674/18674 [==============================] - 0s - loss: 3.5087 - val_loss: 4.0743\n",
      "Epoch 23/100\n",
      "18674/18674 [==============================] - 0s - loss: 3.4989 - val_loss: 4.0764\n",
      "Epoch 24/100\n",
      "18674/18674 [==============================] - 0s - loss: 3.4820 - val_loss: 4.0798\n",
      "Epoch 25/100\n",
      "18674/18674 [==============================] - 0s - loss: 3.4675 - val_loss: 4.0806\n",
      "Epoch 26/100\n",
      "18674/18674 [==============================] - 0s - loss: 3.4591 - val_loss: 4.0881\n",
      "Epoch 27/100\n",
      "18674/18674 [==============================] - 0s - loss: 3.4423 - val_loss: 4.0886\n",
      "Epoch 28/100\n",
      "18674/18674 [==============================] - 0s - loss: 3.4318 - val_loss: 4.0971\n",
      "Epoch 29/100\n",
      "18674/18674 [==============================] - 0s - loss: 3.4175 - val_loss: 4.1013\n",
      "Epoch 30/100\n",
      "18674/18674 [==============================] - 0s - loss: 3.4062 - val_loss: 4.1095\n",
      "Epoch 31/100\n",
      "18674/18674 [==============================] - 0s - loss: 3.3904 - val_loss: 4.1085\n",
      "Epoch 32/100\n",
      "18674/18674 [==============================] - 0s - loss: 3.3878 - val_loss: 4.1104\n",
      "Epoch 33/100\n",
      "18674/18674 [==============================] - 0s - loss: 3.3778 - val_loss: 4.1112\n",
      "Epoch 34/100\n",
      "18674/18674 [==============================] - 0s - loss: 3.3582 - val_loss: 4.1228\n",
      "Epoch 35/100\n",
      "18674/18674 [==============================] - 0s - loss: 3.3595 - val_loss: 4.1201\n",
      "Epoch 36/100\n",
      "18674/18674 [==============================] - 0s - loss: 3.3386 - val_loss: 4.1232\n",
      "Epoch 37/100\n",
      "18674/18674 [==============================] - 0s - loss: 3.3333 - val_loss: 4.1313\n",
      "Epoch 38/100\n",
      "18674/18674 [==============================] - 0s - loss: 3.3215 - val_loss: 4.1443\n",
      "Epoch 39/100\n",
      "18674/18674 [==============================] - 0s - loss: 3.3184 - val_loss: 4.1398\n",
      "Epoch 40/100\n",
      "18674/18674 [==============================] - 0s - loss: 3.3052 - val_loss: 4.1466\n",
      "Epoch 41/100\n",
      "18674/18674 [==============================] - 0s - loss: 3.2953 - val_loss: 4.1505\n",
      "Epoch 42/100\n",
      "18674/18674 [==============================] - 0s - loss: 3.2861 - val_loss: 4.1571\n",
      "Epoch 43/100\n",
      "18674/18674 [==============================] - 0s - loss: 3.2806 - val_loss: 4.1646\n",
      "Epoch 44/100\n",
      "18674/18674 [==============================] - 0s - loss: 3.2680 - val_loss: 4.1615\n",
      "Epoch 45/100\n",
      " 4352/18674 [=====>........................] - ETA: 0s - loss: 3.2468"
     ]
    },
    {
     "ename": "KeyboardInterrupt",
     "evalue": "",
     "output_type": "error",
     "traceback": [
      "\u001b[0;31m---------------------------------------------------------------------------\u001b[0m",
      "\u001b[0;31mKeyboardInterrupt\u001b[0m                         Traceback (most recent call last)",
      "\u001b[0;32m<ipython-input-88-e65a074dbbe2>\u001b[0m in \u001b[0;36m<module>\u001b[0;34m()\u001b[0m\n\u001b[0;32m----> 1\u001b[0;31m \u001b[0mcls\u001b[0m\u001b[0;34m.\u001b[0m\u001b[0mfit\u001b[0m\u001b[0;34m(\u001b[0m\u001b[0mtrain_vec\u001b[0m\u001b[0;34m,\u001b[0m\u001b[0mtrain_label\u001b[0m\u001b[0;34m,\u001b[0m\u001b[0mepochs\u001b[0m\u001b[0;34m=\u001b[0m\u001b[0;36m100\u001b[0m\u001b[0;34m,\u001b[0m\u001b[0mbatch_size\u001b[0m\u001b[0;34m=\u001b[0m\u001b[0;36m256\u001b[0m\u001b[0;34m,\u001b[0m\u001b[0mvalidation_data\u001b[0m\u001b[0;34m=\u001b[0m\u001b[0;34m(\u001b[0m\u001b[0mval_vec\u001b[0m\u001b[0;34m,\u001b[0m\u001b[0mval_label\u001b[0m\u001b[0;34m)\u001b[0m\u001b[0;34m)\u001b[0m\u001b[0;34m\u001b[0m\u001b[0m\n\u001b[0m",
      "\u001b[0;32m/usr/local/lib/python3.4/dist-packages/keras/engine/training.py\u001b[0m in \u001b[0;36mfit\u001b[0;34m(self, x, y, batch_size, epochs, verbose, callbacks, validation_split, validation_data, shuffle, class_weight, sample_weight, initial_epoch, **kwargs)\u001b[0m\n\u001b[1;32m   1505\u001b[0m                               \u001b[0mval_f\u001b[0m\u001b[0;34m=\u001b[0m\u001b[0mval_f\u001b[0m\u001b[0;34m,\u001b[0m \u001b[0mval_ins\u001b[0m\u001b[0;34m=\u001b[0m\u001b[0mval_ins\u001b[0m\u001b[0;34m,\u001b[0m \u001b[0mshuffle\u001b[0m\u001b[0;34m=\u001b[0m\u001b[0mshuffle\u001b[0m\u001b[0;34m,\u001b[0m\u001b[0;34m\u001b[0m\u001b[0m\n\u001b[1;32m   1506\u001b[0m                               \u001b[0mcallback_metrics\u001b[0m\u001b[0;34m=\u001b[0m\u001b[0mcallback_metrics\u001b[0m\u001b[0;34m,\u001b[0m\u001b[0;34m\u001b[0m\u001b[0m\n\u001b[0;32m-> 1507\u001b[0;31m                               initial_epoch=initial_epoch)\n\u001b[0m\u001b[1;32m   1508\u001b[0m \u001b[0;34m\u001b[0m\u001b[0m\n\u001b[1;32m   1509\u001b[0m     \u001b[0;32mdef\u001b[0m \u001b[0mevaluate\u001b[0m\u001b[0;34m(\u001b[0m\u001b[0mself\u001b[0m\u001b[0;34m,\u001b[0m \u001b[0mx\u001b[0m\u001b[0;34m,\u001b[0m \u001b[0my\u001b[0m\u001b[0;34m,\u001b[0m \u001b[0mbatch_size\u001b[0m\u001b[0;34m=\u001b[0m\u001b[0;36m32\u001b[0m\u001b[0;34m,\u001b[0m \u001b[0mverbose\u001b[0m\u001b[0;34m=\u001b[0m\u001b[0;36m1\u001b[0m\u001b[0;34m,\u001b[0m \u001b[0msample_weight\u001b[0m\u001b[0;34m=\u001b[0m\u001b[0;32mNone\u001b[0m\u001b[0;34m)\u001b[0m\u001b[0;34m:\u001b[0m\u001b[0;34m\u001b[0m\u001b[0m\n",
      "\u001b[0;32m/usr/local/lib/python3.4/dist-packages/keras/engine/training.py\u001b[0m in \u001b[0;36m_fit_loop\u001b[0;34m(self, f, ins, out_labels, batch_size, epochs, verbose, callbacks, val_f, val_ins, shuffle, callback_metrics, initial_epoch)\u001b[0m\n\u001b[1;32m   1154\u001b[0m                 \u001b[0mbatch_logs\u001b[0m\u001b[0;34m[\u001b[0m\u001b[0;34m'size'\u001b[0m\u001b[0;34m]\u001b[0m \u001b[0;34m=\u001b[0m \u001b[0mlen\u001b[0m\u001b[0;34m(\u001b[0m\u001b[0mbatch_ids\u001b[0m\u001b[0;34m)\u001b[0m\u001b[0;34m\u001b[0m\u001b[0m\n\u001b[1;32m   1155\u001b[0m                 \u001b[0mcallbacks\u001b[0m\u001b[0;34m.\u001b[0m\u001b[0mon_batch_begin\u001b[0m\u001b[0;34m(\u001b[0m\u001b[0mbatch_index\u001b[0m\u001b[0;34m,\u001b[0m \u001b[0mbatch_logs\u001b[0m\u001b[0;34m)\u001b[0m\u001b[0;34m\u001b[0m\u001b[0m\n\u001b[0;32m-> 1156\u001b[0;31m                 \u001b[0mouts\u001b[0m \u001b[0;34m=\u001b[0m \u001b[0mf\u001b[0m\u001b[0;34m(\u001b[0m\u001b[0mins_batch\u001b[0m\u001b[0;34m)\u001b[0m\u001b[0;34m\u001b[0m\u001b[0m\n\u001b[0m\u001b[1;32m   1157\u001b[0m                 \u001b[0;32mif\u001b[0m \u001b[0;32mnot\u001b[0m \u001b[0misinstance\u001b[0m\u001b[0;34m(\u001b[0m\u001b[0mouts\u001b[0m\u001b[0;34m,\u001b[0m \u001b[0mlist\u001b[0m\u001b[0;34m)\u001b[0m\u001b[0;34m:\u001b[0m\u001b[0;34m\u001b[0m\u001b[0m\n\u001b[1;32m   1158\u001b[0m                     \u001b[0mouts\u001b[0m \u001b[0;34m=\u001b[0m \u001b[0;34m[\u001b[0m\u001b[0mouts\u001b[0m\u001b[0;34m]\u001b[0m\u001b[0;34m\u001b[0m\u001b[0m\n",
      "\u001b[0;32m/usr/local/lib/python3.4/dist-packages/keras/backend/tensorflow_backend.py\u001b[0m in \u001b[0;36m__call__\u001b[0;34m(self, inputs)\u001b[0m\n\u001b[1;32m   2267\u001b[0m         updated = session.run(self.outputs + [self.updates_op],\n\u001b[1;32m   2268\u001b[0m                               \u001b[0mfeed_dict\u001b[0m\u001b[0;34m=\u001b[0m\u001b[0mfeed_dict\u001b[0m\u001b[0;34m,\u001b[0m\u001b[0;34m\u001b[0m\u001b[0m\n\u001b[0;32m-> 2269\u001b[0;31m                               **self.session_kwargs)\n\u001b[0m\u001b[1;32m   2270\u001b[0m         \u001b[0;32mreturn\u001b[0m \u001b[0mupdated\u001b[0m\u001b[0;34m[\u001b[0m\u001b[0;34m:\u001b[0m\u001b[0mlen\u001b[0m\u001b[0;34m(\u001b[0m\u001b[0mself\u001b[0m\u001b[0;34m.\u001b[0m\u001b[0moutputs\u001b[0m\u001b[0;34m)\u001b[0m\u001b[0;34m]\u001b[0m\u001b[0;34m\u001b[0m\u001b[0m\n\u001b[1;32m   2271\u001b[0m \u001b[0;34m\u001b[0m\u001b[0m\n",
      "\u001b[0;32m/usr/local/lib/python3.4/dist-packages/tensorflow/python/client/session.py\u001b[0m in \u001b[0;36mrun\u001b[0;34m(self, fetches, feed_dict, options, run_metadata)\u001b[0m\n\u001b[1;32m    787\u001b[0m     \u001b[0;32mtry\u001b[0m\u001b[0;34m:\u001b[0m\u001b[0;34m\u001b[0m\u001b[0m\n\u001b[1;32m    788\u001b[0m       result = self._run(None, fetches, feed_dict, options_ptr,\n\u001b[0;32m--> 789\u001b[0;31m                          run_metadata_ptr)\n\u001b[0m\u001b[1;32m    790\u001b[0m       \u001b[0;32mif\u001b[0m \u001b[0mrun_metadata\u001b[0m\u001b[0;34m:\u001b[0m\u001b[0;34m\u001b[0m\u001b[0m\n\u001b[1;32m    791\u001b[0m         \u001b[0mproto_data\u001b[0m \u001b[0;34m=\u001b[0m \u001b[0mtf_session\u001b[0m\u001b[0;34m.\u001b[0m\u001b[0mTF_GetBuffer\u001b[0m\u001b[0;34m(\u001b[0m\u001b[0mrun_metadata_ptr\u001b[0m\u001b[0;34m)\u001b[0m\u001b[0;34m\u001b[0m\u001b[0m\n",
      "\u001b[0;32m/usr/local/lib/python3.4/dist-packages/tensorflow/python/client/session.py\u001b[0m in \u001b[0;36m_run\u001b[0;34m(self, handle, fetches, feed_dict, options, run_metadata)\u001b[0m\n\u001b[1;32m    995\u001b[0m     \u001b[0;32mif\u001b[0m \u001b[0mfinal_fetches\u001b[0m \u001b[0;32mor\u001b[0m \u001b[0mfinal_targets\u001b[0m\u001b[0;34m:\u001b[0m\u001b[0;34m\u001b[0m\u001b[0m\n\u001b[1;32m    996\u001b[0m       results = self._do_run(handle, final_targets, final_fetches,\n\u001b[0;32m--> 997\u001b[0;31m                              feed_dict_string, options, run_metadata)\n\u001b[0m\u001b[1;32m    998\u001b[0m     \u001b[0;32melse\u001b[0m\u001b[0;34m:\u001b[0m\u001b[0;34m\u001b[0m\u001b[0m\n\u001b[1;32m    999\u001b[0m       \u001b[0mresults\u001b[0m \u001b[0;34m=\u001b[0m \u001b[0;34m[\u001b[0m\u001b[0;34m]\u001b[0m\u001b[0;34m\u001b[0m\u001b[0m\n",
      "\u001b[0;32m/usr/local/lib/python3.4/dist-packages/tensorflow/python/client/session.py\u001b[0m in \u001b[0;36m_do_run\u001b[0;34m(self, handle, target_list, fetch_list, feed_dict, options, run_metadata)\u001b[0m\n\u001b[1;32m   1130\u001b[0m     \u001b[0;32mif\u001b[0m \u001b[0mhandle\u001b[0m \u001b[0;32mis\u001b[0m \u001b[0;32mNone\u001b[0m\u001b[0;34m:\u001b[0m\u001b[0;34m\u001b[0m\u001b[0m\n\u001b[1;32m   1131\u001b[0m       return self._do_call(_run_fn, self._session, feed_dict, fetch_list,\n\u001b[0;32m-> 1132\u001b[0;31m                            target_list, options, run_metadata)\n\u001b[0m\u001b[1;32m   1133\u001b[0m     \u001b[0;32melse\u001b[0m\u001b[0;34m:\u001b[0m\u001b[0;34m\u001b[0m\u001b[0m\n\u001b[1;32m   1134\u001b[0m       return self._do_call(_prun_fn, self._session, handle, feed_dict,\n",
      "\u001b[0;32m/usr/local/lib/python3.4/dist-packages/tensorflow/python/client/session.py\u001b[0m in \u001b[0;36m_do_call\u001b[0;34m(self, fn, *args)\u001b[0m\n\u001b[1;32m   1137\u001b[0m   \u001b[0;32mdef\u001b[0m \u001b[0m_do_call\u001b[0m\u001b[0;34m(\u001b[0m\u001b[0mself\u001b[0m\u001b[0;34m,\u001b[0m \u001b[0mfn\u001b[0m\u001b[0;34m,\u001b[0m \u001b[0;34m*\u001b[0m\u001b[0margs\u001b[0m\u001b[0;34m)\u001b[0m\u001b[0;34m:\u001b[0m\u001b[0;34m\u001b[0m\u001b[0m\n\u001b[1;32m   1138\u001b[0m     \u001b[0;32mtry\u001b[0m\u001b[0;34m:\u001b[0m\u001b[0;34m\u001b[0m\u001b[0m\n\u001b[0;32m-> 1139\u001b[0;31m       \u001b[0;32mreturn\u001b[0m \u001b[0mfn\u001b[0m\u001b[0;34m(\u001b[0m\u001b[0;34m*\u001b[0m\u001b[0margs\u001b[0m\u001b[0;34m)\u001b[0m\u001b[0;34m\u001b[0m\u001b[0m\n\u001b[0m\u001b[1;32m   1140\u001b[0m     \u001b[0;32mexcept\u001b[0m \u001b[0merrors\u001b[0m\u001b[0;34m.\u001b[0m\u001b[0mOpError\u001b[0m \u001b[0;32mas\u001b[0m \u001b[0me\u001b[0m\u001b[0;34m:\u001b[0m\u001b[0;34m\u001b[0m\u001b[0m\n\u001b[1;32m   1141\u001b[0m       \u001b[0mmessage\u001b[0m \u001b[0;34m=\u001b[0m \u001b[0mcompat\u001b[0m\u001b[0;34m.\u001b[0m\u001b[0mas_text\u001b[0m\u001b[0;34m(\u001b[0m\u001b[0me\u001b[0m\u001b[0;34m.\u001b[0m\u001b[0mmessage\u001b[0m\u001b[0;34m)\u001b[0m\u001b[0;34m\u001b[0m\u001b[0m\n",
      "\u001b[0;32m/usr/local/lib/python3.4/dist-packages/tensorflow/python/client/session.py\u001b[0m in \u001b[0;36m_run_fn\u001b[0;34m(session, feed_dict, fetch_list, target_list, options, run_metadata)\u001b[0m\n\u001b[1;32m   1119\u001b[0m         return tf_session.TF_Run(session, options,\n\u001b[1;32m   1120\u001b[0m                                  \u001b[0mfeed_dict\u001b[0m\u001b[0;34m,\u001b[0m \u001b[0mfetch_list\u001b[0m\u001b[0;34m,\u001b[0m \u001b[0mtarget_list\u001b[0m\u001b[0;34m,\u001b[0m\u001b[0;34m\u001b[0m\u001b[0m\n\u001b[0;32m-> 1121\u001b[0;31m                                  status, run_metadata)\n\u001b[0m\u001b[1;32m   1122\u001b[0m \u001b[0;34m\u001b[0m\u001b[0m\n\u001b[1;32m   1123\u001b[0m     \u001b[0;32mdef\u001b[0m \u001b[0m_prun_fn\u001b[0m\u001b[0;34m(\u001b[0m\u001b[0msession\u001b[0m\u001b[0;34m,\u001b[0m \u001b[0mhandle\u001b[0m\u001b[0;34m,\u001b[0m \u001b[0mfeed_dict\u001b[0m\u001b[0;34m,\u001b[0m \u001b[0mfetch_list\u001b[0m\u001b[0;34m)\u001b[0m\u001b[0;34m:\u001b[0m\u001b[0;34m\u001b[0m\u001b[0m\n",
      "\u001b[0;31mKeyboardInterrupt\u001b[0m: "
     ]
    }
   ],
   "source": [
    "cls.fit(train_vec,train_label,epochs=100,batch_size=256,validation_data=(val_vec,val_label))"
   ]
  },
  {
   "cell_type": "code",
   "execution_count": 50,
   "metadata": {},
   "outputs": [
    {
     "ename": "NameError",
     "evalue": "name 'cls' is not defined",
     "output_type": "error",
     "traceback": [
      "\u001b[0;31m---------------------------------------------------------------------------\u001b[0m",
      "\u001b[0;31mNameError\u001b[0m                                 Traceback (most recent call last)",
      "\u001b[0;32m<ipython-input-50-621fed17bad4>\u001b[0m in \u001b[0;36m<module>\u001b[0;34m()\u001b[0m\n\u001b[0;32m----> 1\u001b[0;31m \u001b[0mans\u001b[0m\u001b[0;34m=\u001b[0m\u001b[0mcls\u001b[0m\u001b[0;34m.\u001b[0m\u001b[0mpredict\u001b[0m\u001b[0;34m(\u001b[0m\u001b[0mval_vec\u001b[0m\u001b[0;34m)\u001b[0m\u001b[0;34m.\u001b[0m\u001b[0margmax\u001b[0m\u001b[0;34m(\u001b[0m\u001b[0;36m1\u001b[0m\u001b[0;34m)\u001b[0m\u001b[0;34m\u001b[0m\u001b[0m\n\u001b[0m\u001b[1;32m      2\u001b[0m \u001b[0mans\u001b[0m\u001b[0;34m\u001b[0m\u001b[0m\n",
      "\u001b[0;31mNameError\u001b[0m: name 'cls' is not defined"
     ]
    }
   ],
   "source": [
    "ans=cls.predict(val_vec).argmax(1)\n",
    "ans"
   ]
  },
  {
   "cell_type": "code",
   "execution_count": 136,
   "metadata": {
    "scrolled": true
   },
   "outputs": [
    {
     "data": {
      "text/plain": [
       "1279    63\n",
       "2143    63\n",
       "4457    63\n",
       "3542    63\n",
       "2316    63\n",
       "1969    64\n",
       "3239    71\n",
       "3241    71\n",
       "3242    71\n",
       "3250    71\n",
       "3243    71\n",
       "3244    71\n",
       "3238    71\n",
       "3245    71\n",
       "3246    71\n",
       "3247    71\n",
       "3248    71\n",
       "3249    71\n",
       "3240    71\n",
       "3251    71\n",
       "0       71\n",
       "3237    71\n",
       "3268    71\n",
       "3267    71\n",
       "3266    71\n",
       "3265    71\n",
       "3264    71\n",
       "3263    71\n",
       "3262    71\n",
       "3252    71\n",
       "        ..\n",
       "1606    71\n",
       "1605    71\n",
       "1604    71\n",
       "1603    71\n",
       "1602    71\n",
       "1601    71\n",
       "1600    71\n",
       "1599    71\n",
       "1614    71\n",
       "1615    71\n",
       "1616    71\n",
       "1617    71\n",
       "1633    71\n",
       "1632    71\n",
       "1631    71\n",
       "1630    71\n",
       "1629    71\n",
       "1628    71\n",
       "1627    71\n",
       "1825    71\n",
       "1626    71\n",
       "1624    71\n",
       "1623    71\n",
       "1622    71\n",
       "1621    71\n",
       "1620    71\n",
       "1619    71\n",
       "1618    71\n",
       "1625    71\n",
       "4872    71\n",
       "dtype: int64"
      ]
     },
     "execution_count": 136,
     "metadata": {},
     "output_type": "execute_result"
    }
   ],
   "source": [
    "pd.Series(ans).sort_values()"
   ]
  },
  {
   "cell_type": "code",
   "execution_count": null,
   "metadata": {
    "collapsed": true
   },
   "outputs": [],
   "source": []
  }
 ],
 "metadata": {
  "kernelspec": {
   "display_name": "Python 3",
   "language": "python",
   "name": "python3"
  },
  "language_info": {
   "codemirror_mode": {
    "name": "ipython",
    "version": 3
   },
   "file_extension": ".py",
   "mimetype": "text/x-python",
   "name": "python",
   "nbconvert_exporter": "python",
   "pygments_lexer": "ipython3",
   "version": "3.4.3"
  }
 },
 "nbformat": 4,
 "nbformat_minor": 2
}
